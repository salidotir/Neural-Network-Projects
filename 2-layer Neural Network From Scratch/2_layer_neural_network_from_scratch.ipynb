{
  "nbformat": 4,
  "nbformat_minor": 0,
  "metadata": {
    "colab": {
      "name": "2-layer-neural-network-from-scratch.ipynb",
      "provenance": [],
      "collapsed_sections": []
    },
    "kernelspec": {
      "name": "python3",
      "display_name": "Python 3"
    },
    "accelerator": "GPU"
  },
  "cells": [
    {
      "cell_type": "code",
      "metadata": {
        "id": "YenP4xVkdW9k",
        "colab_type": "code",
        "colab": {}
      },
      "source": [
        "# imports\n",
        "from keras.datasets import mnist\n",
        "import numpy as np\n",
        "import matplotlib.pyplot as plt"
      ],
      "execution_count": 1,
      "outputs": []
    },
    {
      "cell_type": "code",
      "metadata": {
        "id": "eCcKADvvmM7M",
        "colab_type": "code",
        "colab": {
          "base_uri": "https://localhost:8080/",
          "height": 52
        },
        "outputId": "aad096ab-03ec-4ffe-beb6-ed1bccae9fec"
      },
      "source": [
        "# load data\n",
        "(train_images, train_labels), (test_images, test_labels) = mnist.load_data()\n",
        "\n",
        "x_train = train_images.reshape(60000, 784).T\n",
        "x_test = test_images.reshape(10000, 784).T\n",
        "\n",
        "x_train = x_train.astype('float32')\n",
        "x_test = x_test.astype('float32')\n",
        "\n",
        "x_train /= 255\n",
        "x_test /= 255\n",
        "\n",
        "# change labels of {numbers < 5 --> 0} & {numbers >= 5 --> 1}\n",
        "# make y_train\n",
        "y_train = np.zeros((1, 60000))\n",
        "for i in range(x_train.shape[1]):\n",
        "  if train_labels[i] >= 5:\n",
        "    y_train[0, i] = 1\n",
        "  else:\n",
        "    y_train[0, i] = 0\n",
        "\n",
        "# make y_test\n",
        "y_test = np.zeros((1, 10000))\n",
        "for i in range(x_test.shape[1]):\n",
        "  if test_labels[i] >= 5:\n",
        "    y_test[0, i] = 1\n",
        "  else:\n",
        "    y_test[0, i] = 0"
      ],
      "execution_count": 2,
      "outputs": [
        {
          "output_type": "stream",
          "text": [
            "Downloading data from https://storage.googleapis.com/tensorflow/tf-keras-datasets/mnist.npz\n",
            "11493376/11490434 [==============================] - 0s 0us/step\n"
          ],
          "name": "stdout"
        }
      ]
    },
    {
      "cell_type": "code",
      "metadata": {
        "id": "PUgxGw4gd-QQ",
        "colab_type": "code",
        "colab": {}
      },
      "source": [
        "# sigmoid-function\n",
        "# y = sigmoid(z) #\n",
        "def sigmoid(z):\n",
        "  res = 1/(1 + np.exp(-z))\n",
        "  return res\n",
        "\n",
        "\n",
        "# derivation_sigmoid = sigmoid(z) * (1 - sigmoid(z))\n",
        "def derivation_sigmoid(Z):\n",
        "  res = Z * (1-Z)\n",
        "  return res\n",
        "\n",
        "\n",
        "def calculate_loss(predict_yhat, actual_y):\n",
        "  m = actual_y.shape[1]\n",
        "  loss = (-1./m)*np.sum(np.multiply(np.log(predict_yhat), actual_y) + np.multiply((1 - actual_y), np.log(1 - predict_yhat)))\n",
        "  return loss"
      ],
      "execution_count": 3,
      "outputs": []
    },
    {
      "cell_type": "code",
      "metadata": {
        "id": "oEo8q5WZeXuy",
        "colab_type": "code",
        "colab": {}
      },
      "source": [
        "def initialize_parameters(X, Y, hidden_size): # hidden_size : number of neurons in hidden layer\n",
        "  input_size = X.shape[0] # number of neurons in input layer\n",
        "  output_size = Y.shape[0] # number of neurons in output layer\n",
        "  W1 = np.random.randn(hidden_size, input_size)*np.sqrt(2/input_size) # to make initial weights more random\n",
        "  b1 = np.zeros((hidden_size, 1))\n",
        "  W2 = np.random.randn(output_size, hidden_size)*np.sqrt(2/hidden_size) # to make initial weights more random\n",
        "  b2 = np.zeros((output_size, 1))\n",
        "  return {'W1': W1, 'W2': W2, 'b1': b1, 'b2': b2}\n",
        "\n",
        "\n",
        "def forward_propagation(X, params):\n",
        "  Z1 = np.dot(params['W1'], X)+params['b1']\n",
        "  A1 = sigmoid(Z1)\n",
        "  Z2 = np.dot(params['W2'], A1)+params['b2']\n",
        "  A2 = sigmoid(Z2)\n",
        "  return A2, {'Z1': Z1, 'Z2': Z2, 'A1': A1, 'y': A2}\n",
        "\n",
        "\n",
        "def back_propagation(X, Y, params, cache): # paramas : W1, b1, W2, b2    # cache : Z1, A1, Z2, A2\n",
        "  m = X.shape[1]\n",
        "\n",
        "  dZ2 = cache['y'] - Y  # dy = A2 - y_train\n",
        "  dW2 = (1 / m) * np.dot(dZ2, np.transpose(cache['A1']))\n",
        "  db2 = (1 / m) * np.sum(dZ2, axis=1, keepdims=True)\n",
        "\n",
        "  dZ1 = np.dot(np.transpose(params['W2']), dZ2) * (derivation_sigmoid(sigmoid(cache['Z1'])))\n",
        "  dW1 = (1 / m) * np.dot(dZ1, np.transpose(X))\n",
        "  db1 = (1 / m) * np.sum(dZ1, axis=1, keepdims=True)\n",
        "  return {\"dW1\": dW1, \"db1\": db1, \"dW2\": dW2, \"db2\": db2}\n",
        "\n",
        "\n",
        "def update_parameters(gradients, params, learning_rate):\n",
        "    W1 = params['W1'] - learning_rate * gradients['dW1']\n",
        "    b1 = params['b1'] - learning_rate * gradients['db1']\n",
        "    W2 = params['W2'] - learning_rate * gradients['dW2']\n",
        "    b2 = params['b2'] - learning_rate * gradients['db2']\n",
        "    return {'W1': W1, 'W2': W2, 'b1': b1, 'b2': b2}\n",
        "\n",
        "\n",
        "def train(X, Y, hidden_size, learning_rate = 1.1, epochs = 2000):\n",
        "  params = initialize_parameters(X, Y, hidden_size)\n",
        "  loss_arr = []\n",
        "  for i in range(epochs):\n",
        "    y, cache = forward_propagation(X, params)\n",
        "    loss = calculate_loss(y, Y)\n",
        "    gradients = back_propagation(X, Y, params, cache)\n",
        "    params = update_parameters(gradients, params, learning_rate)\n",
        "    loss_arr.append(loss)\n",
        "    \n",
        "    print(\"epoch: \", i, \"   loss: \" ,loss)\n",
        "  return params, loss_arr"
      ],
      "execution_count": 4,
      "outputs": []
    },
    {
      "cell_type": "code",
      "metadata": {
        "id": "VDaIIGlDefJG",
        "colab_type": "code",
        "colab": {
          "base_uri": "https://localhost:8080/",
          "height": 1000
        },
        "outputId": "6c40cddb-b1c9-4abd-d3ab-863d5d5bbced"
      },
      "source": [
        "# train the model\n",
        "params, loss_arr = train(x_train, y_train, 100, 0.2, 50)\n",
        "\n",
        "plt.plot(loss_arr)"
      ],
      "execution_count": 5,
      "outputs": [
        {
          "output_type": "stream",
          "text": [
            "epoch:  0    loss:  0.710023531110578\n",
            "epoch:  1    loss:  0.6975699481941848\n",
            "epoch:  2    loss:  0.6917906538492545\n",
            "epoch:  3    loss:  0.6872837321064991\n",
            "epoch:  4    loss:  0.68310998218471\n",
            "epoch:  5    loss:  0.6790838206170475\n",
            "epoch:  6    loss:  0.6751630103691869\n",
            "epoch:  7    loss:  0.6713328710781871\n",
            "epoch:  8    loss:  0.667584646731126\n",
            "epoch:  9    loss:  0.6639113722453406\n",
            "epoch:  10    loss:  0.6603070206373427\n",
            "epoch:  11    loss:  0.6567662912116315\n",
            "epoch:  12    loss:  0.6532845141905731\n",
            "epoch:  13    loss:  0.6498575873427438\n",
            "epoch:  14    loss:  0.6464819206114079\n",
            "epoch:  15    loss:  0.6431543872727014\n",
            "epoch:  16    loss:  0.6398722791363718\n",
            "epoch:  17    loss:  0.6366332657113417\n",
            "epoch:  18    loss:  0.6334353566036128\n",
            "epoch:  19    loss:  0.630276866888979\n",
            "epoch:  20    loss:  0.6271563850949943\n",
            "epoch:  21    loss:  0.6240727435587275\n",
            "epoch:  22    loss:  0.621024990936628\n",
            "epoch:  23    loss:  0.6180123666957249\n",
            "epoch:  24    loss:  0.6150342774394573\n",
            "epoch:  25    loss:  0.6120902749497202\n",
            "epoch:  26    loss:  0.6091800358457752\n",
            "epoch:  27    loss:  0.606303342777308\n",
            "epoch:  28    loss:  0.6034600670810523\n",
            "epoch:  29    loss:  0.6006501528396674\n",
            "epoch:  30    loss:  0.5978736022879884\n",
            "epoch:  31    loss:  0.5951304625160003\n",
            "epoch:  32    loss:  0.5924208134202424\n",
            "epoch:  33    loss:  0.5897447568562489\n",
            "epoch:  34    loss:  0.5871024069444059\n",
            "epoch:  35    loss:  0.5844938814805598\n",
            "epoch:  36    loss:  0.581919294401149\n",
            "epoch:  37    loss:  0.5793787492507586\n",
            "epoch:  38    loss:  0.5768723335980663\n",
            "epoch:  39    loss:  0.5744001143442943\n",
            "epoch:  40    loss:  0.5719621338666724\n",
            "epoch:  41    loss:  0.5695584069381625\n",
            "epoch:  42    loss:  0.5671889183638485\n",
            "epoch:  43    loss:  0.5648536212740409\n",
            "epoch:  44    loss:  0.5625524360142916\n",
            "epoch:  45    loss:  0.5602852495731675\n",
            "epoch:  46    loss:  0.558051915489774\n",
            "epoch:  47    loss:  0.5558522541846417\n",
            "epoch:  48    loss:  0.5536860536596138\n",
            "epoch:  49    loss:  0.5515530705147831\n"
          ],
          "name": "stdout"
        },
        {
          "output_type": "execute_result",
          "data": {
            "text/plain": [
              "[<matplotlib.lines.Line2D at 0x7fd4542f9908>]"
            ]
          },
          "metadata": {
            "tags": []
          },
          "execution_count": 5
        },
        {
          "output_type": "display_data",
          "data": {
            "image/png": "[encoded data removed]",
            "text/plain": [
              "<Figure size 432x288 with 1 Axes>"
            ]
          },
          "metadata": {
            "tags": [],
            "needs_background": "light"
          }
        }
      ]
    },
    {
      "cell_type": "code",
      "metadata": {
        "id": "IPl5ns1iTzNt",
        "colab_type": "code",
        "colab": {
          "base_uri": "https://localhost:8080/",
          "height": 34
        },
        "outputId": "61ac51f8-2308-4d82-e927-7ba0522f8d64"
      },
      "source": [
        "# test the model\n",
        "\n",
        "def predict(x_test, params):\n",
        "  y_predict, cache = forward_propagation(x_test, params)\n",
        "\n",
        "  for i in range(y_predict.shape[1]):\n",
        "    if y_predict[0, i] >= 0.5:\n",
        "      y_predict[0, i] = 1\n",
        "    else:\n",
        "      y_predict[0, i] = 0\n",
        "\n",
        "  return y_predict\n",
        "\n",
        "\n",
        "def calculate_accuracy(y_test, y_predict):\n",
        "  acc = 0\n",
        "  for i in range(y_test.shape[1]):\n",
        "    if y_test[0, i] == y_predict[0, i]:\n",
        "      acc += 1\n",
        "  return (float(acc)/y_test.shape[1])*100\n",
        "\n",
        "\n",
        "y_predict = predict(x_test, params)\n",
        "accuracy = calculate_accuracy(y_test, y_predict)\n",
        "print(\"accuracy = \", accuracy, \"%\")"
      ],
      "execution_count": 6,
      "outputs": [
        {
          "output_type": "stream",
          "text": [
            "accuracy =  76.85 %\n"
          ],
          "name": "stdout"
        }
      ]
    }
  ]
}