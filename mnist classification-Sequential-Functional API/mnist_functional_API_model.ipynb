{
  "nbformat": 4,
  "nbformat_minor": 0,
  "metadata": {
    "colab": {
      "name": "mnist_functional_API_model.ipynb",
      "provenance": [],
      "collapsed_sections": []
    },
    "kernelspec": {
      "name": "python3",
      "display_name": "Python 3"
    }
  },
  "cells": [
    {
      "cell_type": "code",
      "metadata": {
        "id": "pPRuH1-olP6_",
        "colab_type": "code",
        "colab": {
          "base_uri": "https://localhost:8080/",
          "height": 52
        },
        "outputId": "66eb85fc-d7e1-4152-e944-2964bfe8557e"
      },
      "source": [
        "# load data\n",
        "from keras.datasets import mnist\n",
        "(train_images, train_labels), (test_images, test_labels) = mnist.load_data()\n",
        "\n",
        "# data attributes\n",
        "x_train = train_images.reshape(60000, 784)\n",
        "x_test = test_images.reshape(10000, 784)\n",
        "\n",
        "x_train = x_train.astype('float32')\n",
        "x_test = x_test.astype('float32')\n",
        "\n",
        "x_train /= 255\n",
        "x_test /= 255\n",
        "\n",
        "from keras.utils import np_utils\n",
        "y_train = np_utils.to_categorical(train_labels)\n",
        "y_test = np_utils.to_categorical(test_labels)"
      ],
      "execution_count": 1,
      "outputs": [
        {
          "output_type": "stream",
          "text": [
            "Downloading data from https://storage.googleapis.com/tensorflow/tf-keras-datasets/mnist.npz\n",
            "11493376/11490434 [==============================] - 0s 0us/step\n"
          ],
          "name": "stdout"
        }
      ]
    },
    {
      "cell_type": "code",
      "metadata": {
        "id": "YfsDN6mklWi5",
        "colab_type": "code",
        "colab": {}
      },
      "source": [
        "# plot_history function\n",
        "def plot_history(net_history):\n",
        "    history = net_history.history\n",
        "    import matplotlib.pyplot as plt\n",
        "    print(history.keys())\n",
        "    losses = history['loss']\n",
        "    val_losses = history['val_loss']\n",
        "    accuracies = history['accuracy']\n",
        "    val_accuracies = history['val_accuracy']\n",
        "    \n",
        "    plt.xlabel('Epochs')\n",
        "    plt.ylabel('Loss')\n",
        "    plt.plot(losses)\n",
        "    plt.plot(val_losses)\n",
        "    plt.legend(['loss', 'val_loss'])\n",
        "    \n",
        "    plt.figure()\n",
        "    plt.xlabel('Epochs')\n",
        "    plt.ylabel('Accuracy')\n",
        "    plt.plot(accuracies)\n",
        "    plt.plot(val_accuracies)\n",
        "    plt.legend(['acc', 'val_acc'])"
      ],
      "execution_count": 2,
      "outputs": []
    },
    {
      "cell_type": "code",
      "metadata": {
        "id": "nMocIauTlXTJ",
        "colab_type": "code",
        "colab": {
          "base_uri": "https://localhost:8080/",
          "height": 298
        },
        "outputId": "7af0d934-a1d6-494c-fd02-4773dda2f74d"
      },
      "source": [
        "# functinal API\n",
        "from keras.models import Model    # functional API == Model\n",
        "from keras.layers import Dense, Dropout, Input\n",
        "from keras.optimizers import SGD\n",
        "from keras.losses import categorical_crossentropy   # because output are multi-classes\n",
        "\n",
        "# in functional API we need a input layer to make clear input_shape\n",
        "input = Input(shape=(784,))\n",
        "x = Dense(500, activation='relu')(input)    # in functional API, in each layer we must make clear what the input is\n",
        "x = Dense(100, activation='relu')(x)\n",
        "output = Dense(10, activation='softmax')(x)\n",
        "\n",
        "my_model = Model(input, output)         # makes input and output layers\n",
        "my_model.summary()\n",
        "my_model.compile(optimizer=SGD(learning_rate=0.01), loss=categorical_crossentropy, metrics=[\"accuracy\"])"
      ],
      "execution_count": 3,
      "outputs": [
        {
          "output_type": "stream",
          "text": [
            "Model: \"functional_1\"\n",
            "_________________________________________________________________\n",
            "Layer (type)                 Output Shape              Param #   \n",
            "=================================================================\n",
            "input_1 (InputLayer)         [(None, 784)]             0         \n",
            "_________________________________________________________________\n",
            "dense (Dense)                (None, 500)               392500    \n",
            "_________________________________________________________________\n",
            "dense_1 (Dense)              (None, 100)               50100     \n",
            "_________________________________________________________________\n",
            "dense_2 (Dense)              (None, 10)                1010      \n",
            "=================================================================\n",
            "Total params: 443,610\n",
            "Trainable params: 443,610\n",
            "Non-trainable params: 0\n",
            "_________________________________________________________________\n"
          ],
          "name": "stdout"
        }
      ]
    },
    {
      "cell_type": "code",
      "metadata": {
        "id": "IKH7lyWdlaV9",
        "colab_type": "code",
        "colab": {
          "base_uri": "https://localhost:8080/",
          "height": 910
        },
        "outputId": "572ca7e1-a4b2-4ace-8cbf-47258156a035"
      },
      "source": [
        "# train the model\n",
        "network_history = my_model.fit(x_train, y_train, batch_size=128, epochs=10, validation_split=0.2)\n",
        "plot_history(network_history)"
      ],
      "execution_count": 4,
      "outputs": [
        {
          "output_type": "stream",
          "text": [
            "Epoch 1/10\n",
            "375/375 [==============================] - 3s 8ms/step - loss: 1.2045 - accuracy: 0.7076 - val_loss: 0.5805 - val_accuracy: 0.8658\n",
            "Epoch 2/10\n",
            "375/375 [==============================] - 3s 8ms/step - loss: 0.5010 - accuracy: 0.8730 - val_loss: 0.3972 - val_accuracy: 0.8973\n",
            "Epoch 3/10\n",
            "375/375 [==============================] - 3s 8ms/step - loss: 0.3883 - accuracy: 0.8947 - val_loss: 0.3349 - val_accuracy: 0.9085\n",
            "Epoch 4/10\n",
            "375/375 [==============================] - 3s 8ms/step - loss: 0.3393 - accuracy: 0.9061 - val_loss: 0.3033 - val_accuracy: 0.9173\n",
            "Epoch 5/10\n",
            "375/375 [==============================] - 3s 8ms/step - loss: 0.3099 - accuracy: 0.9129 - val_loss: 0.2821 - val_accuracy: 0.9227\n",
            "Epoch 6/10\n",
            "375/375 [==============================] - 3s 8ms/step - loss: 0.2882 - accuracy: 0.9181 - val_loss: 0.2667 - val_accuracy: 0.9260\n",
            "Epoch 7/10\n",
            "375/375 [==============================] - 3s 8ms/step - loss: 0.2712 - accuracy: 0.9229 - val_loss: 0.2534 - val_accuracy: 0.9297\n",
            "Epoch 8/10\n",
            "375/375 [==============================] - 3s 8ms/step - loss: 0.2570 - accuracy: 0.9267 - val_loss: 0.2407 - val_accuracy: 0.9338\n",
            "Epoch 9/10\n",
            "375/375 [==============================] - 3s 8ms/step - loss: 0.2445 - accuracy: 0.9302 - val_loss: 0.2313 - val_accuracy: 0.9361\n",
            "Epoch 10/10\n",
            "375/375 [==============================] - 3s 8ms/step - loss: 0.2335 - accuracy: 0.9338 - val_loss: 0.2234 - val_accuracy: 0.9377\n",
            "dict_keys(['loss', 'accuracy', 'val_loss', 'val_accuracy'])\n"
          ],
          "name": "stdout"
        },
        {
          "output_type": "display_data",
          "data": {
            "image/png": "[encoded data removed]",
            "text/plain": [
              "<Figure size 432x288 with 1 Axes>"
            ]
          },
          "metadata": {
            "tags": [],
            "needs_background": "light"
          }
        },
        {
          "output_type": "display_data",
          "data": {
            "image/png": "[encoded data removed]",
            "text/plain": [
              "<Figure size 432x288 with 1 Axes>"
            ]
          },
          "metadata": {
            "tags": [],
            "needs_background": "light"
          }
        }
      ]
    },
    {
      "cell_type": "code",
      "metadata": {
        "id": "wCmErquqlfl0",
        "colab_type": "code",
        "colab": {
          "base_uri": "https://localhost:8080/",
          "height": 70
        },
        "outputId": "0f36f519-3706-483a-9892-ab4c1ad538c8"
      },
      "source": [
        "# evaluation\n",
        "test_loss, test_acc = my_model.evaluate(x_test, y_test)\n",
        "test_labels_predict = my_model.predict(x_test)\n",
        "\n",
        "import numpy as np\n",
        "test_labels_predict = np.argmax(test_labels_predict, axis=1)\n",
        "\n",
        "print(test_labels_predict[2])\n",
        "print(y_test[2])"
      ],
      "execution_count": 5,
      "outputs": [
        {
          "output_type": "stream",
          "text": [
            "313/313 [==============================] - 1s 2ms/step - loss: 0.2257 - accuracy: 0.9364\n",
            "1\n",
            "[0. 1. 0. 0. 0. 0. 0. 0. 0. 0.]\n"
          ],
          "name": "stdout"
        }
      ]
    }
  ]
}