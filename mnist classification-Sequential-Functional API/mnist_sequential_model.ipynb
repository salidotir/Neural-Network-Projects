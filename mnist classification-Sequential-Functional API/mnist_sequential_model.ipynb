{
  "nbformat": 4,
  "nbformat_minor": 0,
  "metadata": {
    "colab": {
      "name": "mnist_sequential_model.ipynb",
      "provenance": []
    },
    "kernelspec": {
      "name": "python3",
      "display_name": "Python 3"
    }
  },
  "cells": [
    {
      "cell_type": "code",
      "metadata": {
        "id": "JSCzIqJ1jRmj",
        "colab_type": "code",
        "colab": {
          "base_uri": "https://localhost:8080/",
          "height": 52
        },
        "outputId": "edac86f1-6816-4908-8fa1-ea7029da0a28"
      },
      "source": [
        "# load data\n",
        "from keras.datasets import mnist\n",
        "(train_images, train_labels), (test_images, test_labels) = mnist.load_data()\n",
        "\n",
        "# data attributes\n",
        "x_train = train_images.reshape(60000, 784)\n",
        "x_test = test_images.reshape(10000, 784)\n",
        "\n",
        "x_train = x_train.astype('float32')\n",
        "x_test = x_test.astype('float32')\n",
        "\n",
        "x_train /= 255\n",
        "x_test /= 255\n",
        "\n",
        "from keras.utils import np_utils\n",
        "y_train = np_utils.to_categorical(train_labels)\n",
        "y_test = np_utils.to_categorical(test_labels)"
      ],
      "execution_count": 1,
      "outputs": [
        {
          "output_type": "stream",
          "text": [
            "Downloading data from https://storage.googleapis.com/tensorflow/tf-keras-datasets/mnist.npz\n",
            "11493376/11490434 [==============================] - 0s 0us/step\n"
          ],
          "name": "stdout"
        }
      ]
    },
    {
      "cell_type": "code",
      "metadata": {
        "id": "6aLaHFfajX3c",
        "colab_type": "code",
        "colab": {}
      },
      "source": [
        "# plot_history function\n",
        "def plot_history(net_history):\n",
        "    history = net_history.history\n",
        "    import matplotlib.pyplot as plt\n",
        "    print(history.keys())\n",
        "    losses = history['loss']\n",
        "    val_losses = history['val_loss']\n",
        "    accuracies = history['accuracy']\n",
        "    val_accuracies = history['val_accuracy']\n",
        "    \n",
        "    plt.xlabel('Epochs')\n",
        "    plt.ylabel('Loss')\n",
        "    plt.plot(losses)\n",
        "    plt.plot(val_losses)\n",
        "    plt.legend(['loss', 'val_loss'])\n",
        "    \n",
        "    plt.figure()\n",
        "    plt.xlabel('Epochs')\n",
        "    plt.ylabel('Accuracy')\n",
        "    plt.plot(accuracies)\n",
        "    plt.plot(val_accuracies)\n",
        "    plt.legend(['acc', 'val_acc'])"
      ],
      "execution_count": 2,
      "outputs": []
    },
    {
      "cell_type": "code",
      "metadata": {
        "id": "r4qMsuSwjZ3f",
        "colab_type": "code",
        "colab": {
          "base_uri": "https://localhost:8080/",
          "height": 334
        },
        "outputId": "6f2b2d9c-9882-4eb2-bef6-69f52ce72eb6"
      },
      "source": [
        "# sequential model\n",
        "from keras.models import Sequential\n",
        "from keras.layers import Dense, Dropout   # regularization & dropout\n",
        "from keras.optimizers import SGD  # gradient decsent\n",
        "from keras.losses import categorical_crossentropy\n",
        "\n",
        "# create model\n",
        "my_model = Sequential()\n",
        "\n",
        "# add a dense layer\n",
        "my_model.add(Dense(500, activation='relu', input_shape=(784,))) # the first layer it must have input_shape\n",
        "my_model.add(Dropout(rate=0.2))                 # if model has overfit, we can reduce it by adding dropout\n",
        "my_model.add(Dense(100, activation='relu'))\n",
        "my_model.add(Dropout(rate=0.2))\n",
        "my_model.add(Dense(10, activation='softmax'))   # output is not binary(sigmoid) so use softmax\n",
        "\n",
        "my_model.summary()\n",
        "my_model.compile(optimizer=SGD(lr=0.001), loss=categorical_crossentropy, metrics=['accuracy'])\n"
      ],
      "execution_count": 7,
      "outputs": [
        {
          "output_type": "stream",
          "text": [
            "Model: \"sequential_1\"\n",
            "_________________________________________________________________\n",
            "Layer (type)                 Output Shape              Param #   \n",
            "=================================================================\n",
            "dense_3 (Dense)              (None, 500)               392500    \n",
            "_________________________________________________________________\n",
            "dropout_2 (Dropout)          (None, 500)               0         \n",
            "_________________________________________________________________\n",
            "dense_4 (Dense)              (None, 100)               50100     \n",
            "_________________________________________________________________\n",
            "dropout_3 (Dropout)          (None, 100)               0         \n",
            "_________________________________________________________________\n",
            "dense_5 (Dense)              (None, 10)                1010      \n",
            "=================================================================\n",
            "Total params: 443,610\n",
            "Trainable params: 443,610\n",
            "Non-trainable params: 0\n",
            "_________________________________________________________________\n"
          ],
          "name": "stdout"
        }
      ]
    },
    {
      "cell_type": "code",
      "metadata": {
        "id": "JTrza9KCjf7Y",
        "colab_type": "code",
        "colab": {
          "base_uri": "https://localhost:8080/",
          "height": 910
        },
        "outputId": "a9a09830-d67d-44cd-f02b-c674c73246ef"
      },
      "source": [
        "# train the model\n",
        "network_history = my_model.fit(x_train, y_train, batch_size=128, epochs=10, validation_split=0.2)\n",
        "plot_history(network_history)"
      ],
      "execution_count": 8,
      "outputs": [
        {
          "output_type": "stream",
          "text": [
            "Epoch 1/10\n",
            "375/375 [==============================] - 4s 9ms/step - loss: 2.2234 - accuracy: 0.2163 - val_loss: 2.0589 - val_accuracy: 0.4498\n",
            "Epoch 2/10\n",
            "375/375 [==============================] - 3s 9ms/step - loss: 1.9727 - accuracy: 0.4218 - val_loss: 1.7910 - val_accuracy: 0.6423\n",
            "Epoch 3/10\n",
            "375/375 [==============================] - 3s 9ms/step - loss: 1.7309 - accuracy: 0.5479 - val_loss: 1.5264 - val_accuracy: 0.7293\n",
            "Epoch 4/10\n",
            "375/375 [==============================] - 3s 9ms/step - loss: 1.5002 - accuracy: 0.6226 - val_loss: 1.2881 - val_accuracy: 0.7728\n",
            "Epoch 5/10\n",
            "375/375 [==============================] - 4s 11ms/step - loss: 1.3032 - accuracy: 0.6690 - val_loss: 1.0954 - val_accuracy: 0.8014\n",
            "Epoch 6/10\n",
            "375/375 [==============================] - 4s 10ms/step - loss: 1.1506 - accuracy: 0.7025 - val_loss: 0.9481 - val_accuracy: 0.8197\n",
            "Epoch 7/10\n",
            "375/375 [==============================] - 3s 9ms/step - loss: 1.0327 - accuracy: 0.7263 - val_loss: 0.8372 - val_accuracy: 0.8338\n",
            "Epoch 8/10\n",
            "375/375 [==============================] - 3s 9ms/step - loss: 0.9436 - accuracy: 0.7436 - val_loss: 0.7525 - val_accuracy: 0.8479\n",
            "Epoch 9/10\n",
            "375/375 [==============================] - 3s 9ms/step - loss: 0.8697 - accuracy: 0.7620 - val_loss: 0.6866 - val_accuracy: 0.8556\n",
            "Epoch 10/10\n",
            "375/375 [==============================] - 3s 9ms/step - loss: 0.8091 - accuracy: 0.7743 - val_loss: 0.6348 - val_accuracy: 0.8622\n",
            "dict_keys(['loss', 'accuracy', 'val_loss', 'val_accuracy'])\n"
          ],
          "name": "stdout"
        },
        {
          "output_type": "display_data",
          "data": {
            "image/png": "[encoded data removed]",
            "text/plain": [
              "<Figure size 432x288 with 1 Axes>"
            ]
          },
          "metadata": {
            "tags": [],
            "needs_background": "light"
          }
        },
        {
          "output_type": "display_data",
          "data": {
            "image/png": "[encoded data removed]",
            "text/plain": [
              "<Figure size 432x288 with 1 Axes>"
            ]
          },
          "metadata": {
            "tags": [],
            "needs_background": "light"
          }
        }
      ]
    },
    {
      "cell_type": "code",
      "metadata": {
        "id": "1YwCoQjDjqPh",
        "colab_type": "code",
        "colab": {
          "base_uri": "https://localhost:8080/",
          "height": 70
        },
        "outputId": "01fd7e07-01ad-4062-fa0e-5a6c279093ce"
      },
      "source": [
        "# evaluation\n",
        "test_loss, test_acc = my_model.evaluate(x_test, y_test)\n",
        "test_labels_predict = my_model.predict(x_test)\n",
        "\n",
        "import numpy as np\n",
        "test_labels_predict = np.argmax(test_labels_predict, axis=1)\n",
        "\n",
        "print(test_labels_predict[2])\n",
        "print(y_test[2])"
      ],
      "execution_count": 9,
      "outputs": [
        {
          "output_type": "stream",
          "text": [
            "313/313 [==============================] - 1s 2ms/step - loss: 0.6332 - accuracy: 0.8576\n",
            "1\n",
            "[0. 1. 0. 0. 0. 0. 0. 0. 0. 0.]\n"
          ],
          "name": "stdout"
        }
      ]
    }
  ]
}