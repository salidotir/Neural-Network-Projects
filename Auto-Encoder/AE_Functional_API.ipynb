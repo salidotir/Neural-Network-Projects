{
  "nbformat": 4,
  "nbformat_minor": 0,
  "metadata": {
    "colab": {
      "name": "AE-Functional API.ipynb",
      "provenance": []
    },
    "kernelspec": {
      "name": "python3",
      "display_name": "Python 3"
    },
    "accelerator": "GPU"
  },
  "cells": [
    {
      "cell_type": "code",
      "metadata": {
        "id": "-pl7tsr1ZbQo",
        "colab_type": "code",
        "colab": {}
      },
      "source": [
        "# imports\n",
        "from keras.datasets import mnist\n",
        "from keras.layers import Input, Dense\n",
        "from keras.models import Model\n",
        "from keras.optimizers import Adam\n",
        "from keras.losses import categorical_crossentropy\n",
        "\n",
        "import numpy as np\n",
        "import matplotlib.pyplot as plt"
      ],
      "execution_count": 11,
      "outputs": []
    },
    {
      "cell_type": "code",
      "metadata": {
        "id": "FyGIkQqiaIoL",
        "colab_type": "code",
        "colab": {}
      },
      "source": [
        "# load data\n",
        "(x_train, _), (x_test, _) = mnist.load_data()\n",
        "\n",
        "# normalize input data between 0-1\n",
        "x_train = x_train.astype('float32') / 255.\n",
        "x_test = x_test.astype('float32') / 255.\n",
        "# len(x_train) : 60000\n",
        "# x_train.shape[1:] : (28, 28)\n",
        "# np.prod(x_train.shape[1:]) : 28*28=784\n",
        "x_train = x_train.reshape((len(x_train), np.prod(x_train.shape[1:])))\n",
        "x_test = x_test.reshape((len(x_test), np.prod(x_test.shape[1:])))"
      ],
      "execution_count": 12,
      "outputs": []
    },
    {
      "cell_type": "code",
      "metadata": {
        "id": "Pkdc40iea32Y",
        "colab_type": "code",
        "colab": {
          "base_uri": "https://localhost:8080/",
          "height": 263
        },
        "outputId": "45c65d65-c87e-46a7-9458-4fe8fba623bb"
      },
      "source": [
        "# create auto-encoder using fucntional API model\n",
        "# auto-encoder model : encoder model --> placeholder layer --> decoder model\n",
        "\n",
        "encoder_input = Input(shape=(784,))\n",
        "encoded = Dense(64, activation='relu')(encoder_input)\n",
        "encoder_model = Model(encoder_input, encoded)\n",
        "\n",
        "decoded = Dense(784, activation='relu')(encoded)\n",
        "auto_encoder_model = Model(encoder_input, decoded)\n",
        "\n",
        "decoder_input = Input(shape=(64,))\n",
        "decoder_layer = auto_encoder_model.layers[-1]\n",
        "decoder_model = Model(decoder_input, decoder_layer(decoder_input))\n",
        "\n",
        "auto_encoder_model.compile(optimizer=Adam(), loss=categorical_crossentropy, metrics=['accuracy'])\n",
        "auto_encoder_model.summary()"
      ],
      "execution_count": 13,
      "outputs": [
        {
          "output_type": "stream",
          "text": [
            "Model: \"functional_13\"\n",
            "_________________________________________________________________\n",
            "Layer (type)                 Output Shape              Param #   \n",
            "=================================================================\n",
            "input_6 (InputLayer)         [(None, 784)]             0         \n",
            "_________________________________________________________________\n",
            "dense_4 (Dense)              (None, 64)                50240     \n",
            "_________________________________________________________________\n",
            "dense_5 (Dense)              (None, 784)               50960     \n",
            "=================================================================\n",
            "Total params: 101,200\n",
            "Trainable params: 101,200\n",
            "Non-trainable params: 0\n",
            "_________________________________________________________________\n"
          ],
          "name": "stdout"
        }
      ]
    },
    {
      "cell_type": "code",
      "metadata": {
        "id": "uo3-zKTqegAd",
        "colab_type": "code",
        "colab": {
          "base_uri": "https://localhost:8080/",
          "height": 1000
        },
        "outputId": "76cf2fb3-af61-4430-b844-b8f2289eaffc"
      },
      "source": [
        "# fit the model\n",
        "network_history = auto_encoder_model.fit(x_train, x_train, batch_size=128, epochs=50, shuffle=True)"
      ],
      "execution_count": 21,
      "outputs": [
        {
          "output_type": "stream",
          "text": [
            "Epoch 1/50\n",
            "469/469 [==============================] - 2s 4ms/step - loss: 535.4218 - accuracy: 0.0135\n",
            "Epoch 2/50\n",
            "469/469 [==============================] - 2s 4ms/step - loss: 535.2715 - accuracy: 0.0137\n",
            "Epoch 3/50\n",
            "469/469 [==============================] - 2s 4ms/step - loss: 535.2482 - accuracy: 0.0150\n",
            "Epoch 4/50\n",
            "469/469 [==============================] - 2s 4ms/step - loss: 535.2142 - accuracy: 0.0124\n",
            "Epoch 5/50\n",
            "469/469 [==============================] - 2s 4ms/step - loss: 535.6558 - accuracy: 0.0146\n",
            "Epoch 6/50\n",
            "469/469 [==============================] - 2s 4ms/step - loss: 535.7192 - accuracy: 0.0115\n",
            "Epoch 7/50\n",
            "469/469 [==============================] - 2s 4ms/step - loss: 535.2239 - accuracy: 0.0132\n",
            "Epoch 8/50\n",
            "469/469 [==============================] - 2s 4ms/step - loss: 535.2844 - accuracy: 0.0127\n",
            "Epoch 9/50\n",
            "469/469 [==============================] - 2s 4ms/step - loss: 535.1796 - accuracy: 0.0127\n",
            "Epoch 10/50\n",
            "469/469 [==============================] - 2s 4ms/step - loss: 535.1293 - accuracy: 0.0141\n",
            "Epoch 11/50\n",
            "469/469 [==============================] - 2s 4ms/step - loss: 535.2755 - accuracy: 0.0145\n",
            "Epoch 12/50\n",
            "469/469 [==============================] - 2s 4ms/step - loss: 535.3530 - accuracy: 0.0132\n",
            "Epoch 13/50\n",
            "469/469 [==============================] - 2s 4ms/step - loss: 535.1249 - accuracy: 0.0127\n",
            "Epoch 14/50\n",
            "469/469 [==============================] - 2s 4ms/step - loss: 535.1450 - accuracy: 0.0121\n",
            "Epoch 15/50\n",
            "469/469 [==============================] - 2s 4ms/step - loss: 536.0103 - accuracy: 0.0127\n",
            "Epoch 16/50\n",
            "469/469 [==============================] - 2s 4ms/step - loss: 535.3763 - accuracy: 0.0125\n",
            "Epoch 17/50\n",
            "469/469 [==============================] - 2s 4ms/step - loss: 534.9081 - accuracy: 0.0130\n",
            "Epoch 18/50\n",
            "469/469 [==============================] - 2s 4ms/step - loss: 535.3120 - accuracy: 0.0144\n",
            "Epoch 19/50\n",
            "469/469 [==============================] - 2s 4ms/step - loss: 535.1202 - accuracy: 0.0141\n",
            "Epoch 20/50\n",
            "469/469 [==============================] - 2s 4ms/step - loss: 535.0242 - accuracy: 0.0135\n",
            "Epoch 21/50\n",
            "469/469 [==============================] - 2s 4ms/step - loss: 535.0016 - accuracy: 0.0138\n",
            "Epoch 22/50\n",
            "469/469 [==============================] - 2s 4ms/step - loss: 535.0190 - accuracy: 0.0148\n",
            "Epoch 23/50\n",
            "469/469 [==============================] - 2s 4ms/step - loss: 535.0887 - accuracy: 0.0123\n",
            "Epoch 24/50\n",
            "469/469 [==============================] - 2s 4ms/step - loss: 534.9863 - accuracy: 0.0142\n",
            "Epoch 25/50\n",
            "469/469 [==============================] - 2s 4ms/step - loss: 535.1121 - accuracy: 0.0134\n",
            "Epoch 26/50\n",
            "469/469 [==============================] - 2s 4ms/step - loss: 534.9235 - accuracy: 0.0132\n",
            "Epoch 27/50\n",
            "469/469 [==============================] - 2s 4ms/step - loss: 534.8533 - accuracy: 0.0132\n",
            "Epoch 28/50\n",
            "469/469 [==============================] - 2s 4ms/step - loss: 534.8350 - accuracy: 0.0139\n",
            "Epoch 29/50\n",
            "469/469 [==============================] - 2s 4ms/step - loss: 534.9459 - accuracy: 0.0136\n",
            "Epoch 30/50\n",
            "469/469 [==============================] - 2s 4ms/step - loss: 535.4351 - accuracy: 0.0128\n",
            "Epoch 31/50\n",
            "469/469 [==============================] - 2s 4ms/step - loss: 535.1926 - accuracy: 0.0141\n",
            "Epoch 32/50\n",
            "469/469 [==============================] - 2s 4ms/step - loss: 535.2983 - accuracy: 0.0136\n",
            "Epoch 33/50\n",
            "469/469 [==============================] - 2s 4ms/step - loss: 534.8217 - accuracy: 0.0133\n",
            "Epoch 34/50\n",
            "469/469 [==============================] - 2s 4ms/step - loss: 534.6837 - accuracy: 0.0139\n",
            "Epoch 35/50\n",
            "469/469 [==============================] - 2s 4ms/step - loss: 534.9816 - accuracy: 0.0122\n",
            "Epoch 36/50\n",
            "469/469 [==============================] - 2s 4ms/step - loss: 535.0914 - accuracy: 0.0130\n",
            "Epoch 37/50\n",
            "469/469 [==============================] - 2s 4ms/step - loss: 534.9589 - accuracy: 0.0133\n",
            "Epoch 38/50\n",
            "469/469 [==============================] - 2s 4ms/step - loss: 534.5294 - accuracy: 0.0130\n",
            "Epoch 39/50\n",
            "469/469 [==============================] - 2s 4ms/step - loss: 534.9485 - accuracy: 0.0139\n",
            "Epoch 40/50\n",
            "469/469 [==============================] - 2s 4ms/step - loss: 535.2153 - accuracy: 0.0121\n",
            "Epoch 41/50\n",
            "469/469 [==============================] - 2s 4ms/step - loss: 535.0951 - accuracy: 0.0122\n",
            "Epoch 42/50\n",
            "469/469 [==============================] - 2s 4ms/step - loss: 534.8736 - accuracy: 0.0142\n",
            "Epoch 43/50\n",
            "469/469 [==============================] - 2s 4ms/step - loss: 534.8275 - accuracy: 0.0147\n",
            "Epoch 44/50\n",
            "469/469 [==============================] - 2s 4ms/step - loss: 534.7780 - accuracy: 0.0131\n",
            "Epoch 45/50\n",
            "469/469 [==============================] - 2s 4ms/step - loss: 534.6898 - accuracy: 0.0134\n",
            "Epoch 46/50\n",
            "469/469 [==============================] - 2s 4ms/step - loss: 535.0081 - accuracy: 0.0138\n",
            "Epoch 47/50\n",
            "469/469 [==============================] - 2s 4ms/step - loss: 534.7183 - accuracy: 0.0131\n",
            "Epoch 48/50\n",
            "469/469 [==============================] - 2s 4ms/step - loss: 535.3328 - accuracy: 0.0121\n",
            "Epoch 49/50\n",
            "469/469 [==============================] - 2s 4ms/step - loss: 534.8990 - accuracy: 0.0119\n",
            "Epoch 50/50\n",
            "469/469 [==============================] - 2s 4ms/step - loss: 534.8491 - accuracy: 0.0140\n"
          ],
          "name": "stdout"
        }
      ]
    },
    {
      "cell_type": "code",
      "metadata": {
        "id": "j34ySC8vfFjX",
        "colab_type": "code",
        "colab": {
          "base_uri": "https://localhost:8080/",
          "height": 248
        },
        "outputId": "675cc3c0-748a-4283-9bd5-7264636e5588"
      },
      "source": [
        "# test the model\n",
        "encoded_imgs = encoder_model.predict(x_test)\n",
        "decoded_imgs = decoder_model.predict(encoded_imgs)\n",
        "\n",
        "n = 10  # how many digits we will display\n",
        "plt.figure(figsize=(20, 4))\n",
        "for i in range(n):\n",
        "    # display original\n",
        "    ax = plt.subplot(2, n, i + 1)\n",
        "    plt.imshow(x_test[i].reshape(28, 28))\n",
        "    plt.gray()\n",
        "    ax.get_xaxis().set_visible(False)\n",
        "    ax.get_yaxis().set_visible(False)\n",
        "\n",
        "    # display reconstruction\n",
        "    ax = plt.subplot(2, n, i + 1 + n)\n",
        "    plt.imshow(decoded_imgs[i].reshape(28, 28))\n",
        "    plt.gray()\n",
        "    ax.get_xaxis().set_visible(False)\n",
        "    ax.get_yaxis().set_visible(False)\n",
        "    \n",
        "plt.show()"
      ],
      "execution_count": 22,
      "outputs": [
        {
          "output_type": "display_data",
          "data": {
            "image/png": "[encoded data removed]",
            "text/plain": [
              "<Figure size 1440x288 with 20 Axes>"
            ]
          },
          "metadata": {
            "tags": [],
            "needs_background": "light"
          }
        }
      ]
    }
  ]
}